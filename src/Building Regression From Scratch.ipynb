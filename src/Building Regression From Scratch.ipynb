{
 "cells": [
  {
   "cell_type": "markdown",
   "metadata": {},
   "source": [
    "Author: Kemal Yilmaz <br />\n",
    "10/28/2019"
   ]
  },
  {
   "cell_type": "markdown",
   "metadata": {},
   "source": [
    "# CONTENT\n",
    "## 1. Data Exploration\n",
    "## 2. Building various functions (adjusted r2, MSE, train_test_split, outlier_detection etc)\n",
    "## 3. Linear Regression with Normal Equation\n",
    "## 4. Developing different models with different datasets cleaned differently\n",
    "## 5. Linear Regression with Stochastic Gradient Descent\n",
    "## 6. Diagnostics of Linear Regression\n",
    "## 7. From Linear Regression to Polynomial Regression"
   ]
  },
  {
   "cell_type": "code",
   "execution_count": 1,
   "metadata": {},
   "outputs": [],
   "source": [
    "import pandas as pd\n",
    "import numpy as np\n",
    "\n",
    "import seaborn as sns\n",
    "import matplotlib.pyplot as plt\n",
    "\n",
    "%matplotlib inline"
   ]
  },
  {
   "cell_type": "markdown",
   "metadata": {},
   "source": [
    "## 1. Data Exploration"
   ]
  },
  {
   "cell_type": "code",
   "execution_count": 2,
   "metadata": {},
   "outputs": [],
   "source": [
    "df = pd.read_excel(\"../input/Adops & Data Scientist Sample Data.xlsx\", sheet_name = \"Q2 Regression\", header = None)"
   ]
  },
  {
   "cell_type": "code",
   "execution_count": 3,
   "metadata": {},
   "outputs": [
    {
     "data": {
      "text/html": [
       "<div>\n",
       "<style scoped>\n",
       "    .dataframe tbody tr th:only-of-type {\n",
       "        vertical-align: middle;\n",
       "    }\n",
       "\n",
       "    .dataframe tbody tr th {\n",
       "        vertical-align: top;\n",
       "    }\n",
       "\n",
       "    .dataframe thead th {\n",
       "        text-align: right;\n",
       "    }\n",
       "</style>\n",
       "<table border=\"1\" class=\"dataframe\">\n",
       "  <thead>\n",
       "    <tr style=\"text-align: right;\">\n",
       "      <th></th>\n",
       "      <th>0</th>\n",
       "      <th>1</th>\n",
       "      <th>2</th>\n",
       "    </tr>\n",
       "  </thead>\n",
       "  <tbody>\n",
       "    <tr>\n",
       "      <th>0</th>\n",
       "      <td>0.490142</td>\n",
       "      <td>-0.179654</td>\n",
       "      <td>11.536508</td>\n",
       "    </tr>\n",
       "    <tr>\n",
       "      <th>1</th>\n",
       "      <td>-1.414793</td>\n",
       "      <td>-1.225605</td>\n",
       "      <td>11.828531</td>\n",
       "    </tr>\n",
       "    <tr>\n",
       "      <th>2</th>\n",
       "      <td>0.943066</td>\n",
       "      <td>4.506148</td>\n",
       "      <td>-3.235349</td>\n",
       "    </tr>\n",
       "    <tr>\n",
       "      <th>3</th>\n",
       "      <td>3.569090</td>\n",
       "      <td>5.068347</td>\n",
       "      <td>-23.891922</td>\n",
       "    </tr>\n",
       "    <tr>\n",
       "      <th>4</th>\n",
       "      <td>-1.702460</td>\n",
       "      <td>6.905051</td>\n",
       "      <td>-22.125437</td>\n",
       "    </tr>\n",
       "  </tbody>\n",
       "</table>\n",
       "</div>"
      ],
      "text/plain": [
       "          0         1          2\n",
       "0  0.490142 -0.179654  11.536508\n",
       "1 -1.414793 -1.225605  11.828531\n",
       "2  0.943066  4.506148  -3.235349\n",
       "3  3.569090  5.068347 -23.891922\n",
       "4 -1.702460  6.905051 -22.125437"
      ]
     },
     "execution_count": 3,
     "metadata": {},
     "output_type": "execute_result"
    }
   ],
   "source": [
    "df.head()"
   ]
  },
  {
   "cell_type": "code",
   "execution_count": 4,
   "metadata": {},
   "outputs": [
    {
     "data": {
      "text/html": [
       "<div>\n",
       "<style scoped>\n",
       "    .dataframe tbody tr th:only-of-type {\n",
       "        vertical-align: middle;\n",
       "    }\n",
       "\n",
       "    .dataframe tbody tr th {\n",
       "        vertical-align: top;\n",
       "    }\n",
       "\n",
       "    .dataframe thead th {\n",
       "        text-align: right;\n",
       "    }\n",
       "</style>\n",
       "<table border=\"1\" class=\"dataframe\">\n",
       "  <thead>\n",
       "    <tr style=\"text-align: right;\">\n",
       "      <th></th>\n",
       "      <th>A</th>\n",
       "      <th>B</th>\n",
       "      <th>C</th>\n",
       "    </tr>\n",
       "  </thead>\n",
       "  <tbody>\n",
       "    <tr>\n",
       "      <th>0</th>\n",
       "      <td>0.490142</td>\n",
       "      <td>-0.179654</td>\n",
       "      <td>11.536508</td>\n",
       "    </tr>\n",
       "    <tr>\n",
       "      <th>1</th>\n",
       "      <td>-1.414793</td>\n",
       "      <td>-1.225605</td>\n",
       "      <td>11.828531</td>\n",
       "    </tr>\n",
       "    <tr>\n",
       "      <th>2</th>\n",
       "      <td>0.943066</td>\n",
       "      <td>4.506148</td>\n",
       "      <td>-3.235349</td>\n",
       "    </tr>\n",
       "    <tr>\n",
       "      <th>3</th>\n",
       "      <td>3.569090</td>\n",
       "      <td>5.068347</td>\n",
       "      <td>-23.891922</td>\n",
       "    </tr>\n",
       "    <tr>\n",
       "      <th>4</th>\n",
       "      <td>-1.702460</td>\n",
       "      <td>6.905051</td>\n",
       "      <td>-22.125437</td>\n",
       "    </tr>\n",
       "  </tbody>\n",
       "</table>\n",
       "</div>"
      ],
      "text/plain": [
       "          A         B          C\n",
       "0  0.490142 -0.179654  11.536508\n",
       "1 -1.414793 -1.225605  11.828531\n",
       "2  0.943066  4.506148  -3.235349\n",
       "3  3.569090  5.068347 -23.891922\n",
       "4 -1.702460  6.905051 -22.125437"
      ]
     },
     "execution_count": 4,
     "metadata": {},
     "output_type": "execute_result"
    }
   ],
   "source": [
    "# Renaming columns\n",
    "df.rename(columns={0: 'A', 1: 'B', 2: 'C'}, inplace= True)\n",
    "df.head()"
   ]
  },
  {
   "cell_type": "code",
   "execution_count": 5,
   "metadata": {},
   "outputs": [
    {
     "name": "stdout",
     "output_type": "stream",
     "text": [
      "<class 'pandas.core.frame.DataFrame'>\n",
      "RangeIndex: 300 entries, 0 to 299\n",
      "Data columns (total 3 columns):\n",
      "A    300 non-null float64\n",
      "B    300 non-null float64\n",
      "C    300 non-null float64\n",
      "dtypes: float64(3)\n",
      "memory usage: 7.1 KB\n"
     ]
    }
   ],
   "source": [
    "df.info()\n",
    "\n",
    "# df.isna().sum()"
   ]
  },
  {
   "cell_type": "code",
   "execution_count": 6,
   "metadata": {
    "scrolled": true
   },
   "outputs": [
    {
     "data": {
      "text/html": [
       "<div>\n",
       "<style scoped>\n",
       "    .dataframe tbody tr th:only-of-type {\n",
       "        vertical-align: middle;\n",
       "    }\n",
       "\n",
       "    .dataframe tbody tr th {\n",
       "        vertical-align: top;\n",
       "    }\n",
       "\n",
       "    .dataframe thead th {\n",
       "        text-align: right;\n",
       "    }\n",
       "</style>\n",
       "<table border=\"1\" class=\"dataframe\">\n",
       "  <thead>\n",
       "    <tr style=\"text-align: right;\">\n",
       "      <th></th>\n",
       "      <th>A</th>\n",
       "      <th>B</th>\n",
       "      <th>C</th>\n",
       "    </tr>\n",
       "  </thead>\n",
       "  <tbody>\n",
       "    <tr>\n",
       "      <th>count</th>\n",
       "      <td>300.000000</td>\n",
       "      <td>300.000000</td>\n",
       "      <td>300.000000</td>\n",
       "    </tr>\n",
       "    <tr>\n",
       "      <th>mean</th>\n",
       "      <td>2.316688</td>\n",
       "      <td>2.012932</td>\n",
       "      <td>-41.567544</td>\n",
       "    </tr>\n",
       "    <tr>\n",
       "      <th>std</th>\n",
       "      <td>5.694549</td>\n",
       "      <td>2.998603</td>\n",
       "      <td>581.196205</td>\n",
       "    </tr>\n",
       "    <tr>\n",
       "      <th>min</th>\n",
       "      <td>-8.859235</td>\n",
       "      <td>-2.891623</td>\n",
       "      <td>-9999.000000</td>\n",
       "    </tr>\n",
       "    <tr>\n",
       "      <th>25%</th>\n",
       "      <td>-1.937274</td>\n",
       "      <td>-0.605841</td>\n",
       "      <td>-23.354257</td>\n",
       "    </tr>\n",
       "    <tr>\n",
       "      <th>50%</th>\n",
       "      <td>0.468780</td>\n",
       "      <td>1.935227</td>\n",
       "      <td>-3.087428</td>\n",
       "    </tr>\n",
       "    <tr>\n",
       "      <th>75%</th>\n",
       "      <td>7.041309</td>\n",
       "      <td>4.698202</td>\n",
       "      <td>16.303241</td>\n",
       "    </tr>\n",
       "    <tr>\n",
       "      <th>max</th>\n",
       "      <td>20.558194</td>\n",
       "      <td>6.997177</td>\n",
       "      <td>202.022916</td>\n",
       "    </tr>\n",
       "  </tbody>\n",
       "</table>\n",
       "</div>"
      ],
      "text/plain": [
       "                A           B            C\n",
       "count  300.000000  300.000000   300.000000\n",
       "mean     2.316688    2.012932   -41.567544\n",
       "std      5.694549    2.998603   581.196205\n",
       "min     -8.859235   -2.891623 -9999.000000\n",
       "25%     -1.937274   -0.605841   -23.354257\n",
       "50%      0.468780    1.935227    -3.087428\n",
       "75%      7.041309    4.698202    16.303241\n",
       "max     20.558194    6.997177   202.022916"
      ]
     },
     "execution_count": 6,
     "metadata": {},
     "output_type": "execute_result"
    }
   ],
   "source": [
    "df.describe()"
   ]
  },
  {
   "cell_type": "markdown",
   "metadata": {},
   "source": [
    "Column C has a very extreme minimum. \n",
    "Also, it seems to have a very different data structure that the others."
   ]
  },
  {
   "cell_type": "code",
   "execution_count": 7,
   "metadata": {},
   "outputs": [
    {
     "data": {
      "text/plain": [
       "array([[<matplotlib.axes._subplots.AxesSubplot object at 0x000001BDDA2CBB70>,\n",
       "        <matplotlib.axes._subplots.AxesSubplot object at 0x000001BDDA5FCDD8>],\n",
       "       [<matplotlib.axes._subplots.AxesSubplot object at 0x000001BDDA6383C8>,\n",
       "        <matplotlib.axes._subplots.AxesSubplot object at 0x000001BDDA665978>]],\n",
       "      dtype=object)"
      ]
     },
     "execution_count": 7,
     "metadata": {},
     "output_type": "execute_result"
    },
    {
     "data": {
      "image/png": "[encoded data removed]",
      "text/plain": [
       "<Figure size 432x288 with 4 Axes>"
      ]
     },
     "metadata": {
      "needs_background": "light"
     },
     "output_type": "display_data"
    }
   ],
   "source": [
    "## Check distribution of data\n",
    "df.hist()"
   ]
  },
  {
   "cell_type": "markdown",
   "metadata": {},
   "source": [
    "All columns have a different distribution. <br />\n",
    "Column A has somehow bimodal distribution while Column B has a uniform distribution. <br />\n",
    "Column C has an extreme outlier."
   ]
  },
  {
   "cell_type": "code",
   "execution_count": 8,
   "metadata": {},
   "outputs": [
    {
     "data": {
      "text/plain": [
       "array([[<matplotlib.axes._subplots.AxesSubplot object at 0x000001BDDA0AA860>,\n",
       "        <matplotlib.axes._subplots.AxesSubplot object at 0x000001BDDB795978>],\n",
       "       [<matplotlib.axes._subplots.AxesSubplot object at 0x000001BDDB7C5DD8>,\n",
       "        <matplotlib.axes._subplots.AxesSubplot object at 0x000001BDDB8013C8>]],\n",
       "      dtype=object)"
      ]
     },
     "execution_count": 8,
     "metadata": {},
     "output_type": "execute_result"
    },
    {
     "data": {
      "image/png": "[encoded data removed]",
      "text/plain": [
       "<Figure size 432x288 with 4 Axes>"
      ]
     },
     "metadata": {
      "needs_background": "light"
     },
     "output_type": "display_data"
    }
   ],
   "source": [
    "## Quick and dirty approach to remove min in Column C to see if the outlier is filtered out\n",
    "df[df['C'] !=  df['C'].min()].hist()"
   ]
  },
  {
   "cell_type": "markdown",
   "metadata": {},
   "source": [
    "We are lucky! After removing extreme minimum outlier in Column C, it has a more interpretable distribution. Now, it is a left skewed distribution. Also, it might have more outlier. <br /> \n",
    "Moreover, instead of having bell shape, the data have less variance (thin and tall shape)."
   ]
  },
  {
   "cell_type": "code",
   "execution_count": 9,
   "metadata": {
    "scrolled": true
   },
   "outputs": [],
   "source": [
    "## Let's keep this dataframe to use later while running the model for different dataframes.\n",
    "df_1 = df[df['C'] !=  df['C'].min()]\n",
    "\n",
    "## This is necessary when intercept column is added to the dataframe \n",
    "df_1.reset_index(drop= True, inplace = True)"
   ]
  },
  {
   "cell_type": "code",
   "execution_count": 10,
   "metadata": {},
   "outputs": [
    {
     "data": {
      "text/plain": [
       "Text(0, 0.5, 'Column C')"
      ]
     },
     "execution_count": 10,
     "metadata": {},
     "output_type": "execute_result"
    },
    {
     "data": {
      "image/png": "[encoded data removed]",
      "text/plain": [
       "<Figure size 1008x432 with 2 Axes>"
      ]
     },
     "metadata": {
      "needs_background": "light"
     },
     "output_type": "display_data"
    }
   ],
   "source": [
    "## Relation between dependant and independant variables\n",
    "\n",
    "plt.subplots(2,2,figsize=(14,6))\n",
    "\n",
    "plt.subplot(1, 2, 1)\n",
    "plt.scatter(df_1['A'], df_1['C'])\n",
    "plt.title('Relation Between A and C')\n",
    "plt.xlabel('Column A')\n",
    "plt.ylabel('Column C')\n",
    "\n",
    "plt.subplot(1, 2, 2)\n",
    "plt.scatter(df_1['B'], df_1['C'])\n",
    "plt.title('Relation Between A and B')\n",
    "plt.xlabel('Column B')\n",
    "plt.ylabel('Column C')\n",
    "\n"
   ]
  },
  {
   "cell_type": "markdown",
   "metadata": {},
   "source": [
    "The relation does not seem to be linear. Although we will start with a multiple linear regression at the first attempt, we will very likely need to transform the varibles. "
   ]
  },
  {
   "cell_type": "code",
   "execution_count": 11,
   "metadata": {},
   "outputs": [
    {
     "data": {
      "text/plain": [
       "<matplotlib.axes._subplots.AxesSubplot at 0x1bddb941b00>"
      ]
     },
     "execution_count": 11,
     "metadata": {},
     "output_type": "execute_result"
    },
    {
     "data": {
      "image/png": "[encoded data removed]",
      "text/plain": [
       "<Figure size 432x288 with 2 Axes>"
      ]
     },
     "metadata": {
      "needs_background": "light"
     },
     "output_type": "display_data"
    }
   ],
   "source": [
    "## Correlation heatmap\n",
    "sns.heatmap(df[['A', 'B']].corr(), annot = True, linewidths = 0.5, cmap = \"YlGnBu\")"
   ]
  },
  {
   "cell_type": "markdown",
   "metadata": {},
   "source": [
    "Having high correlation between independant variables should alert which might cause a multicollinearity - although it is not always the case. Here, Column A and Column B have a low correlation."
   ]
  },
  {
   "cell_type": "markdown",
   "metadata": {},
   "source": [
    "## 2. Building Various Functions"
   ]
  },
  {
   "cell_type": "code",
   "execution_count": 12,
   "metadata": {},
   "outputs": [],
   "source": [
    "## Although min in Column C was removed, it might be necessary to write a function to remove outliers systematically.\n",
    "\n",
    "def outlier_detection(data, outlier_range = 1.5):\n",
    "    \n",
    "    '''\n",
    "    \n",
    "    This function removes outliers in all columns of the data frame based on the distance of the data point to \n",
    "    the first quartile (to the left) and to the third quartile (to the right).\n",
    "    \n",
    "    data   (pandas dataframe)  : Dataframe to the processed\n",
    "    outlier_range     (float)  : Distance from the first quartile, or the third quartile. By default, it is 1.5, which is\n",
    "    usually the rule-of-thumb. However, this range can change regarding domain expertise and charachteristic of the data, \n",
    "    especially when the data is extremely skewed.\n",
    "    \n",
    "    The function returns a modified dataframe that has no outlier regarding outlier_range\n",
    "    \n",
    "    '''\n",
    "    \n",
    "    print('Outlier removal when outlier_range is {}.'.format(outlier_range))\n",
    "    print('Initial row count: {}'.format(len(data)))\n",
    "    \n",
    "\n",
    "    for col in data.columns:\n",
    "        q1, q3= np.percentile(data[col],[25,75])\n",
    "        iqr = q3 - q1\n",
    "        lower_bound = q1 -(outlier_range * iqr) \n",
    "        upper_bound = q3 +(outlier_range * iqr)\n",
    "          \n",
    "        data = data[(data[col] > lower_bound) & (data[col] < upper_bound)]\n",
    "        print('Row count after removing outliers in Column {}: {}'.format(col,len(data)))\n",
    "        \n",
    "    ## Since some rows are removed, it is better to reset the index to not have an issue in the later steps.    \n",
    "    data.reset_index(drop= True, inplace = True)\n",
    "            \n",
    "    return data"
   ]
  },
  {
   "cell_type": "code",
   "execution_count": 13,
   "metadata": {},
   "outputs": [
    {
     "name": "stdout",
     "output_type": "stream",
     "text": [
      "Outlier removal when outlier_range is 1.5.\n",
      "Initial row count: 300\n",
      "Row count after removing outliers in Column A: 299\n",
      "Row count after removing outliers in Column B: 299\n",
      "Row count after removing outliers in Column C: 246\n",
      "-----------------------\n",
      "Outlier removal when outlier_range is 2.5.\n",
      "Initial row count: 300\n",
      "Row count after removing outliers in Column A: 300\n",
      "Row count after removing outliers in Column B: 300\n",
      "Row count after removing outliers in Column C: 272\n",
      "-----------------------\n",
      "Outlier removal when outlier_range is 3.0.\n",
      "Initial row count: 300\n",
      "Row count after removing outliers in Column A: 300\n",
      "Row count after removing outliers in Column B: 300\n",
      "Row count after removing outliers in Column C: 278\n",
      "-----------------------\n",
      "Outlier removal when outlier_range is 4.0.\n",
      "Initial row count: 300\n",
      "Row count after removing outliers in Column A: 300\n",
      "Row count after removing outliers in Column B: 300\n",
      "Row count after removing outliers in Column C: 287\n"
     ]
    }
   ],
   "source": [
    "df_2 = outlier_detection(df)\n",
    "print(\"-----------------------\")\n",
    "df_3 = outlier_detection(df,2.5)\n",
    "print(\"-----------------------\")\n",
    "df_4 = outlier_detection(df,3.0)\n",
    "print(\"-----------------------\")\n",
    "df_5 = outlier_detection(df,4.0)\n"
   ]
  },
  {
   "cell_type": "markdown",
   "metadata": {},
   "source": [
    "Defining outlier is reliant on the domain and data scientist's discretion. Outlier range of 1.5 is the standard to determine the mild outliers in most of the software (3 for extreme outliers). However, range can be adjusted regarding the business requirement and knowledge. <br />\n",
    "We will create different models by using all these dataframes. <br />\n",
    "Note that df_1 and df_2 have the same number of rows, which means they are the same dataset."
   ]
  },
  {
   "cell_type": "code",
   "execution_count": 14,
   "metadata": {
    "scrolled": true
   },
   "outputs": [],
   "source": [
    "## Models will be built on train data, and be validated on test data. \n",
    "## For simplicity, cross validation function is not developed from scratch, hence cross validation methodology, \n",
    "## i.e. 10 fold, is not utilized in the notebook.\n",
    "\n",
    "def train_test_split(X, y, test_ratio = 0.33, seed = None):\n",
    "    \n",
    "    '''\n",
    "    \n",
    "    This function splits the given independant and dependant variables as train and test split.\n",
    "    \n",
    "    X   (pandas dataframe)  : Independant variables\n",
    "    y               (list)  : Dependant variable\n",
    "    test_ratio     (float)  : Size of test data divided by total instance\n",
    "    seed        (integer)   : If wanted to obtain the same train and test split at each run, seed should be set. This ensures\n",
    "    the repeatibility of the function\n",
    "\n",
    "    The function return 4 different dataframes which are X_train, X_test, Y_train and Y_test\n",
    "    \n",
    "    '''    \n",
    "    \n",
    "    # For repeability, seed can be set.\n",
    "    if seed:\n",
    "        np.random.seed(seed)\n",
    "        \n",
    "    # Shuffling indices\n",
    "    shuffled_indices = np.random.permutation(len(X))\n",
    "    \n",
    "    # Calculating test size\n",
    "    test_size = int(len(X)*test_ratio)\n",
    "    \n",
    "    # Based on test size, retriving test indices\n",
    "    test_indices = shuffled_indices[:test_size].tolist()\n",
    "    \n",
    "    # Rest of the indices, which are train indices\n",
    "    train_indices = list(set(shuffled_indices) - set(test_indices))\n",
    "    \n",
    "    # Slicing independant variables\n",
    "    X_train_data = X.iloc[train_indices]\n",
    "    X_test_data = X.iloc[test_indices]\n",
    "\n",
    "    # Slicing dependat variables\n",
    "    y_train_data = y[train_indices]\n",
    "    y_test_data = y[test_indices]\n",
    "\n",
    "    return X_train_data, X_test_data, y_train_data, y_test_data"
   ]
  },
  {
   "cell_type": "markdown",
   "metadata": {},
   "source": [
    "train_test_split used in this notebook is a simple permutation of all instances, which means it is not as sophisticated as Sklearn's methodology. Being that simple, i.e. lack of randomness, can sometimes cause non-ideal split which might result in a difference between r2 of train and test data. If the discrepany is high, this might be indication of overfitting (high r2 for train, relatively low r2 test). All you need is re-running the train_test_split and the model. <br /> <br />\n",
    "As a side note, if you use Sklearn's train_test_split, you will always get a closer r2 values for train and test split."
   ]
  },
  {
   "cell_type": "markdown",
   "metadata": {},
   "source": [
    "<br />\n",
    "Scaling would convert data into the same scale which would help compare the importance of independant variables by checking\n",
    "the coefficient. The greater coefficient (beta) means the more important independantvariable. It alsa improves the efficiency\n",
    "since the values would be smaller and easy to compute. <br />\n",
    "<br />\n",
    "There are different ways of scaling, i.e min-max scaling,normalization, standardization. In linear regression, standard scaling\n",
    "is usually better since the model relies on normality assumption. Also, standard scaling does not compress the outliers\n",
    "as most of scalers do.\n"
   ]
  },
  {
   "cell_type": "code",
   "execution_count": 15,
   "metadata": {},
   "outputs": [],
   "source": [
    "# Although the function is defined here, it will not be used for now. If wanted, it can be used later.\n",
    "\n",
    "def standard_scaler(train_data, test_data):\n",
    "    \n",
    "    '''\n",
    "    \n",
    "    This function scales input dataframes by mean and standard deviation of each corresponding feature. That is\n",
    "            \n",
    "            df[col_scale] = (df[col] - df[col].mean()) / df[col].std()\n",
    "            \n",
    "    which is actually the z-score of each corresponding observation in that column.\n",
    "    \n",
    "    train_data (pandas dataframe)  : Train data to be scaled\n",
    "    test_data  (pandas dataframe)  : Test data to be scaled\n",
    "\n",
    "    The function return 2 different dataframes which are scales versions of train and test data.\n",
    "    \n",
    "    Note that the function can easily modified to retrieve the mean and standard deviation, if desired.\n",
    "    \n",
    "    '''   \n",
    "    \n",
    "    \n",
    "    train_df_new = pd.DataFrame(columns = train_data.columns, index = list(train_data.index.values))\n",
    "    test_df_new = pd.DataFrame(columns = test_data.columns, index = list(test_data.index.values))\n",
    "\n",
    "    # If wanted to return mean and standard deviation of the scaler\n",
    "    mean_list = list()\n",
    "    std_list = list()\n",
    "    \n",
    "    # Standard scaling train data \n",
    "    for col in train_df_new.columns:\n",
    "        \n",
    "        # Calculating mean and std for train data, which would also be used for test data. \n",
    "        std = train_data[col].std()\n",
    "        mean = train_data[col].mean()\n",
    "\n",
    "        train_df_new[col] = (train_data[col] - mean)/std\n",
    "        \n",
    "        mean_list.append(mean)\n",
    "        std_list.append(std)\n",
    "        \n",
    "    # Standard scaling test data\n",
    "    for col in test_df_new.columns:\n",
    "        \n",
    "        test_df_new[col] = (test_data[col] - mean)/std\n",
    "        \n",
    "    ## If mean and standar deviation of scaler are desired to be retrieved, just include the mean_list and std_list below.\n",
    "    return train_df_new, test_df_new  ##, mean_list, std_list\n",
    "        "
   ]
  },
  {
   "cell_type": "code",
   "execution_count": 16,
   "metadata": {},
   "outputs": [],
   "source": [
    "## Some functions for prediction and performance measure. Not all measures are used. Can be used if desired.\n",
    "\n",
    "# Predictions\n",
    "def predict(X,betas):\n",
    "    \n",
    "    '''\n",
    "    \n",
    "    This function calculates prediction based on input features and the corresponding coefficients by using dot product.\n",
    "            \n",
    "    \n",
    "    X  (pandas dataframe)  : Input features\n",
    "    betas         (array)  : Coefficients of features \n",
    "\n",
    "    The function returns prediction for the corresponsding observation.\n",
    "    \n",
    "    '''       \n",
    "    \n",
    "    # linear_algorithm() function adds intercept column to train data however it is not modefied. Both train and test data \n",
    "    # need to have an intercept column for predictions.\n",
    "    if 'intercept' not in X.columns:\n",
    "        m = len(X)\n",
    "        x0 = pd.DataFrame(np.ones((m,1)), columns = ['intercept'], index = list(X.index.values))\n",
    "        X = pd.concat([x0, X], axis=1)   \n",
    "\n",
    "    yhat = X.dot(betas)\n",
    "    return yhat\n",
    "\n",
    "## The rest are standard evalulation metrics, so no explanation (docstring) was added in the functions  \n",
    "\n",
    "# Model Evaluation - RMSE\n",
    "def rmse(Y, Yhat):\n",
    "    rmse = np.sqrt(sum((Y - Yhat) ** 2) / len(Y))\n",
    "    return rmse\n",
    "\n",
    "# Model Evaluation - RMSE\n",
    "def mse(Y, Yhat):\n",
    "    rmse = sum((Y - Yhat) ** 2) / len(Y)\n",
    "    return rmse\n",
    "\n",
    "# Model Evaluation - R2 Score\n",
    "def r2_score(Y, Yhat):\n",
    "    mean_y = np.mean(Y)\n",
    "    ss_tot = sum((Y - mean_y) ** 2)\n",
    "    ss_res = sum((Y - Yhat) ** 2)\n",
    "    r2 = 1 - (ss_res / ss_tot)\n",
    "    return r2\n",
    "\n",
    "# It is better to check adjusted r2 in multiple linear regression\n",
    "def adjusted_r2(X,Y,Yhat):\n",
    "    \n",
    "    # First part is r2 calculation\n",
    "    mean_y = np.mean(Y)\n",
    "    ss_tot = sum((Y - mean_y) ** 2)\n",
    "    ss_res = sum((Y - Yhat) ** 2)\n",
    "    r2 = 1 - (ss_res / ss_tot)\n",
    "    \n",
    "    # Here is adjusted r2\n",
    "    adj_r2 = 1 - (1-r2)*(X.shape[0]-1)/(X.shape[0]-2-1)\n",
    "        \n",
    "    ###Should this X be original X or the one with intercept. Compare with the output of OLS\n",
    "    return adj_r2"
   ]
  },
  {
   "cell_type": "markdown",
   "metadata": {},
   "source": [
    "## 3. Linear Regression with Normal Equation"
   ]
  },
  {
   "cell_type": "markdown",
   "metadata": {},
   "source": [
    "Normal Equation is a closed-form solution, which is an analytical approach for Linear Regression with a Least Square Cost function. The beauty of this approach is that it directly gives coefficients without using Gradient Descent. It is fast and exact solution if the dataset is small. <br /> <br />\n",
    "However, in the era of big data, there can be thousands of features in the model. In that case Normal Equation approach would likely take long time since taking inverse of such a big matrix is a gruesome process. \n",
    "Normal Equation that gives coefficients is as follows:\n",
    "\n",
    "\\begin{equation*}\n",
    "\\beta = (X^{T}.X)^{-1} . (X^T. y)\n",
    "\\end{equation*}\n",
    "\n",
    "where;\n",
    "  - beta is coefficient vector of n features\n",
    "  - X is feature matrix (independant variables) of m instances and n features\n",
    "  - y is observed values (dependant variable) of m instances\n"
   ]
  },
  {
   "cell_type": "code",
   "execution_count": 17,
   "metadata": {},
   "outputs": [],
   "source": [
    "# Linear Regression with Normal Equation\n",
    "\n",
    "def linear_regression(X,Y):\n",
    "    \n",
    "    '''\n",
    "    \n",
    "    This function calculates coefficients of independent variables by utilizing normal equation, which is a closed-form solution.\n",
    "    \n",
    "    X  : independent variables\n",
    "    Y  : dependent variable\n",
    "    \n",
    "    The function returns an array for coefficients.\n",
    "    \n",
    "    '''\n",
    "    \n",
    "    ## Adding intercept column, which is also called bias. \n",
    "    m = len(X)\n",
    "    x0 = pd.DataFrame(np.ones((m,1)), columns = ['intercept'], index = list(X.index.values))\n",
    "    X_new = pd.concat([x0, X], axis=1)\n",
    "    \n",
    "    ## Applying normal equation\n",
    "    xTx = np.transpose(X_new).dot(X_new)\n",
    "    xTx_inverse = np.linalg.inv(xTx)\n",
    "    xTy = np.transpose(X_new).dot(Y)\n",
    "\n",
    "    betas = xTx_inverse.dot(xTy)\n",
    "\n",
    "    return betas"
   ]
  },
  {
   "cell_type": "markdown",
   "metadata": {},
   "source": [
    "Here are a couple of dataframes to run with the regression. <br />\n",
    "1. The one with both Columns (original data, df)\n",
    "2. The one where extreme outlier is removed from Column C (df_1)\n",
    "3. The one with oulier range of 1.5 (df_2)\n",
    "4. The one with oulier range of 2.5 (df_3)\n",
    "5. The one with oulier range of 3.5 (df_4)\n",
    "6. The one with oulier range of 4 (df_5)"
   ]
  },
  {
   "cell_type": "code",
   "execution_count": 38,
   "metadata": {},
   "outputs": [
    {
     "data": {
      "text/plain": [
       "array([ 23.95932516,  -2.00289471, -15.44841717])"
      ]
     },
     "execution_count": 38,
     "metadata": {},
     "output_type": "execute_result"
    }
   ],
   "source": [
    "## Running model with the original data.\n",
    "X = df[['A', 'B']]\n",
    "y = df['C']\n",
    "\n",
    "# Train-test split\n",
    "X_train, X_test, y_train, y_test = train_test_split(X , y, test_ratio= 0.33)\n",
    "\n",
    "# Calculating beta values\n",
    "betas= linear_regression(X_train, y_train)\n",
    "betas"
   ]
  },
  {
   "cell_type": "code",
   "execution_count": 39,
   "metadata": {},
   "outputs": [
    {
     "name": "stdout",
     "output_type": "stream",
     "text": [
      "The algorithm is yhat = 23.959 - 2.003 * x1 + -15.448 * x2\n"
     ]
    }
   ],
   "source": [
    "# Some coefficients are negative, let's tweak the print statement to have a nice ouput\n",
    "\n",
    "print(\"The algorithm is yhat = {:0.3f} - {:0.3f} * x1 + {:0.3f} * x2\".format(betas[0], -betas[1], betas[2]))"
   ]
  },
  {
   "cell_type": "code",
   "execution_count": 40,
   "metadata": {},
   "outputs": [
    {
     "name": "stdout",
     "output_type": "stream",
     "text": [
      "Adjusted r2 for train set: 0.39\n",
      "Adjusted r2 for test set: -0.04\n",
      "MSE for train set: 3255.01\n",
      "MSE for test set: 1020428.00\n"
     ]
    }
   ],
   "source": [
    "train_predictions = predict(X_train,betas)\n",
    "test_predictions = predict(X_test,betas)\n",
    "\n",
    "print(\"Adjusted r2 for train set: {:0.2f}\".format(adjusted_r2(X_train, y_train, train_predictions)))\n",
    "print(\"Adjusted r2 for test set: {:0.2f}\".format(adjusted_r2(X_test, y_test, test_predictions)))\n",
    "\n",
    "print(\"MSE for train set: {:0.2f}\".format(mse(y_train, train_predictions)))\n",
    "print(\"MSE for test set: {:0.2f}\".format(mse(y_test, test_predictions)))"
   ]
  },
  {
   "cell_type": "markdown",
   "metadata": {},
   "source": [
    "Quite a bad model! "
   ]
  },
  {
   "cell_type": "markdown",
   "metadata": {},
   "source": [
    "## 4. Developing models with different datasets"
   ]
  },
  {
   "cell_type": "markdown",
   "metadata": {},
   "source": [
    "Let's run the model with different datasets."
   ]
  },
  {
   "cell_type": "code",
   "execution_count": 42,
   "metadata": {},
   "outputs": [
    {
     "name": "stdout",
     "output_type": "stream",
     "text": [
      "Beta Values [ 28.37255269  -0.93798546 -16.1223429 ]\n",
      "Adjusted r2 for train set: 0.39\n",
      "Adjusted r2 for test set: 0.35\n",
      "MSE for train set: 3444.62\n",
      "MSE for test set: 2373.15\n"
     ]
    }
   ],
   "source": [
    "# df_1: Extreme outlier in Column C is removed\n",
    "X = df_1[['A', 'B']]\n",
    "y = df_1['C']\n",
    "\n",
    "# Train - test split\n",
    "X_train2, X_test2, y_train2, y_test2 = train_test_split(X , y, test_ratio= 0.33)\n",
    "\n",
    "# Calculating beta values\n",
    "betas2= linear_regression(X_train2, y_train2)\n",
    "print('Beta Values {}'.format(betas2))\n",
    "\n",
    "# Predictions for train and test data\n",
    "train_predictions2 = predict(X_train2, betas2)\n",
    "test_predictions2 = predict(X_test2, betas2)\n",
    "\n",
    "# Measuring performance, and printing the result\n",
    "\n",
    "print(\"Adjusted r2 for train set: {:0.2f}\".format(adjusted_r2(X_train2, y_train2, train_predictions2)))\n",
    "print(\"Adjusted r2 for test set: {:0.2f}\".format(adjusted_r2(X_test2, y_test2, test_predictions2)))\n",
    "\n",
    "print(\"MSE for train set: {:0.2f}\".format(mse(y_train2, train_predictions2)))\n",
    "print(\"MSE for test set: {:0.2f}\".format(mse(y_test2, test_predictions2)))"
   ]
  },
  {
   "cell_type": "code",
   "execution_count": 45,
   "metadata": {},
   "outputs": [
    {
     "name": "stdout",
     "output_type": "stream",
     "text": [
      "Beta Values [10.54068129  0.9508017  -6.40333851]\n",
      "Adjusted r2 for train set: 0.51\n",
      "Adjusted r2 for test set: 0.48\n",
      "MSE for train set: 358.82\n",
      "MSE for test set: 443.70\n"
     ]
    }
   ],
   "source": [
    "# df_2: With outlier range 1.5\n",
    "X = df_2[['A', 'B']]\n",
    "y = df_2['C']\n",
    "\n",
    "# Train - test split\n",
    "X_train3, X_test3, y_train3, y_test3 = train_test_split(X , y, test_ratio= 0.33)\n",
    "\n",
    "# Calculating beta values\n",
    "betas3= linear_regression(X_train3, y_train3)\n",
    "print('Beta Values {}'.format(betas3))\n",
    "\n",
    "# Predictions for train and test data\n",
    "train_predictions3 = predict(X_train3, betas3)\n",
    "test_predictions3 = predict(X_test3, betas3)\n",
    "\n",
    "# Measuring performance, and printing the result\n",
    "\n",
    "print(\"Adjusted r2 for train set: {:0.2f}\".format(adjusted_r2(X_train3, y_train3, train_predictions3)))\n",
    "print(\"Adjusted r2 for test set: {:0.2f}\".format(adjusted_r2(X_test3, y_test3, test_predictions3)))\n",
    "\n",
    "print(\"MSE for train set: {:0.2f}\".format(mse(y_train3, train_predictions3)))\n",
    "print(\"MSE for test set: {:0.2f}\".format(mse(y_test3, test_predictions3)))"
   ]
  },
  {
   "cell_type": "code",
   "execution_count": 51,
   "metadata": {},
   "outputs": [
    {
     "name": "stdout",
     "output_type": "stream",
     "text": [
      "Beta Values [15.18819321  1.7232772  -8.61008231]\n",
      "Adjusted r2 for train set: 0.52\n",
      "Adjusted r2 for test set: 0.43\n",
      "MSE for train set: 723.53\n",
      "MSE for test set: 1003.06\n"
     ]
    }
   ],
   "source": [
    "# df_3: With outlier range 2.5\n",
    "X = df_3[['A', 'B']]\n",
    "y = df_3['C']\n",
    "\n",
    "# Train - test split\n",
    "X_train4, X_test4, y_train4, y_test4 = train_test_split(X , y, test_ratio= 0.33)\n",
    "\n",
    "# Calculating beta values\n",
    "betas4= linear_regression(X_train4, y_train4)\n",
    "print('Beta Values {}'.format(betas4))\n",
    "\n",
    "# Predictions for train and test data\n",
    "train_predictions4 = predict(X_train4, betas4)\n",
    "test_predictions4 = predict(X_test4, betas4)\n",
    "\n",
    "# Measuring performance, and printing the result\n",
    "\n",
    "print(\"Adjusted r2 for train set: {:0.2f}\".format(adjusted_r2(X_train4, y_train4, train_predictions4)))\n",
    "print(\"Adjusted r2 for test set: {:0.2f}\".format(adjusted_r2(X_test4, y_test4, test_predictions4)))\n",
    "\n",
    "print(\"MSE for train set: {:0.2f}\".format(mse(y_train4, train_predictions4)))\n",
    "print(\"MSE for test set: {:0.2f}\".format(mse(y_test4, test_predictions4)))"
   ]
  },
  {
   "cell_type": "code",
   "execution_count": 52,
   "metadata": {},
   "outputs": [
    {
     "name": "stdout",
     "output_type": "stream",
     "text": [
      "Beta Values [14.25062775  1.51643672 -8.3164001 ]\n",
      "Adjusted r2 for train set: 0.49\n",
      "Adjusted r2 for test set: 0.46\n",
      "MSE for train set: 739.95\n",
      "MSE for test set: 1528.25\n"
     ]
    }
   ],
   "source": [
    "# df_4: With outlier range 3\n",
    "X = df_4[['A', 'B']]\n",
    "y = df_4['C']\n",
    "\n",
    "# Train - test split\n",
    "X_train5, X_test5, y_train5, y_test5 = train_test_split(X , y, test_ratio= 0.33)\n",
    "\n",
    "# Calculating beta values\n",
    "betas5= linear_regression(X_train5, y_train5)\n",
    "print('Beta Values {}'.format(betas5))\n",
    "\n",
    "# Predictions for train and test data\n",
    "train_predictions5 = predict(X_train5, betas5)\n",
    "test_predictions5 = predict(X_test5, betas5)\n",
    "\n",
    "# Measuring performance, and printing the result\n",
    "\n",
    "print(\"Adjusted r2 for train set: {:0.2f}\".format(adjusted_r2(X_train5, y_train5, train_predictions5)))\n",
    "print(\"Adjusted r2 for test set: {:0.2f}\".format(adjusted_r2(X_test5, y_test5, test_predictions5)))\n",
    "\n",
    "print(\"MSE for train set: {:0.2f}\".format(mse(y_train5, train_predictions5)))\n",
    "print(\"MSE for test set: {:0.2f}\".format(mse(y_test5, test_predictions5)))"
   ]
  },
  {
   "cell_type": "code",
   "execution_count": 53,
   "metadata": {},
   "outputs": [
    {
     "name": "stdout",
     "output_type": "stream",
     "text": [
      "Beta Values [ 23.95932516  -2.00289471 -15.44841717]\n",
      "Adjusted r2 for train set: 0.50\n",
      "Adjusted r2 for test set: 0.45\n",
      "MSE for train set: 1198.42\n",
      "MSE for test set: 1648.02\n"
     ]
    }
   ],
   "source": [
    "# df_5: With outlier range 4\n",
    "X = df_5[['A', 'B']]\n",
    "y = df_5['C']\n",
    "\n",
    "# Train - test split\n",
    "X_train6, X_test6, y_train6, y_test6 = train_test_split(X , y, test_ratio= 0.33)\n",
    "\n",
    "# Calculating beta values\n",
    "betas6= linear_regression(X_train6, y_train6)\n",
    "print('Beta Values {}'.format(betas))\n",
    "\n",
    "# Predictions for train and test data\n",
    "train_predictions6 = predict(X_train6, betas6)\n",
    "test_predictions6 = predict(X_test6, betas6)\n",
    "\n",
    "# Measuring performance, and printing the result\n",
    "\n",
    "print(\"Adjusted r2 for train set: {:0.2f}\".format(adjusted_r2(X_train6, y_train6, train_predictions6)))\n",
    "print(\"Adjusted r2 for test set: {:0.2f}\".format(adjusted_r2(X_test6, y_test6, test_predictions6)))\n",
    "\n",
    "print(\"MSE for train set: {:0.2f}\".format(mse(y_train6, train_predictions6)))\n",
    "print(\"MSE for test set: {:0.2f}\".format(mse(y_test6, test_predictions6)))"
   ]
  },
  {
   "cell_type": "markdown",
   "metadata": {},
   "source": [
    "Some models have closer adjusted r2, but different MSE. This decision can be pertinent to the domain expertise. I personally choose a model with a lower MSE although its adjusted r2 might be a little higher than some others. This difference should be at an acceptable level.  <br /> <br />\n",
    "One of the concerns is related to the data cleaning process. How much of data are we ok to remove with? Based on outlier ranger, this amount changed, and went beyond 10%, which can be hardly ok for some cases.\n"
   ]
  },
  {
   "cell_type": "code",
   "execution_count": 54,
   "metadata": {},
   "outputs": [
    {
     "name": "stdout",
     "output_type": "stream",
     "text": [
      "Length of original data frame: 300\n",
      "Length of df1: 299\n",
      "Length of df2: 246\n",
      "Length of df3: 272\n",
      "Length of df4: 278\n",
      "Length of df5: 287\n"
     ]
    }
   ],
   "source": [
    "print(\"Length of original data frame: {}\".format(len(df)))\n",
    "print(\"Length of df1: {}\".format(len(df_1)))\n",
    "print(\"Length of df2: {}\".format(len(df_2)))\n",
    "print(\"Length of df3: {}\".format(len(df_3)))\n",
    "print(\"Length of df4: {}\".format(len(df_4)))\n",
    "print(\"Length of df5: {}\".format(len(df_5)))\n"
   ]
  },
  {
   "cell_type": "markdown",
   "metadata": {},
   "source": [
    "Although model 3 (df_2) is more preferable since MSE is lower (adj r2 values are close for most the models), removing that much amount of data might not be a good way. <br />\n",
    "I prefer to select model 4 (df_3). It has a similar adjusted r2 and second best MSE. Let's stick to df_3 for the following steps.\n"
   ]
  },
  {
   "cell_type": "markdown",
   "metadata": {},
   "source": [
    "## 5. Linear Regression with Stochastic Gradient Descent"
   ]
  },
  {
   "cell_type": "markdown",
   "metadata": {},
   "source": [
    "Gradient Descent iterative optimization algorithm that utilize the first-order of the cost function. The goal is to find the minimum by taking smaller steps towards the minimum point. The risk of this algorithm is that it might get stuck in local minimum instead of finding global minimum. So the starting point in critical. <br /> <br />\n",
    "However, if the function is convex, then that means there is no local minimum. Cost function used in Linear Regression is fortunately a convex function, so it is guaranted that the optimization would end in global minimum. <br /> <br />\n",
    "This algorithm comes handy if there are thousands of features since Normal Equation might fail in that case (gruesome inverse operation). Learning rate, which can be considered as step size, and number of iterations are the hyperparameter that need to be tuned.  <br /> <br />\n",
    "Detailed mathematical explanation and formulas will not be stated here. Instead, just the codes would be provided.\n",
    "\n"
   ]
  },
  {
   "cell_type": "code",
   "execution_count": 55,
   "metadata": {},
   "outputs": [],
   "source": [
    "# Defining cost function at each iteration\n",
    "\n",
    "def cost_function(X, Y, betas):\n",
    "    \n",
    "    '''\n",
    "    \n",
    "    This function calculates cost at each step of the gradient in Stochastic Gradient Descent algorithm.\n",
    "    \n",
    "    X  (pandas dataframe) : independent variables\n",
    "    Y              (list) : dependent variable\n",
    "    beta          (array) : Coefficients of independant variables\n",
    "    \n",
    "    The function returns a numeric value for cost.\n",
    "    \n",
    "    '''    \n",
    "    \n",
    "    m = len(X)\n",
    "    \n",
    "    # Cost function, which is MSE (mean squared error), that is desired to be minimized\n",
    "    J = np.sum((Y - X.dot(betas)) ** 2)/(2 * m)\n",
    "    \n",
    "    return J"
   ]
  },
  {
   "cell_type": "code",
   "execution_count": 56,
   "metadata": {},
   "outputs": [],
   "source": [
    "# Stochastic Gradient Descent Algorithm\n",
    "\n",
    "def gradient_descent(X, Y, betas, alpha, iterations):\n",
    "    \n",
    "    '''\n",
    "    \n",
    "    This function calculates cost at each step of the Gradient in Stochastic Gradient Descent algorithm.\n",
    "    \n",
    "    X  (pandas dataframe) : independent variables\n",
    "    Y              (list) : dependent variable\n",
    "    beta          (array) : Initialized values for coefficients of independant variables\n",
    "    alpha         (float) : Learning rate at each step of the gradient in the algorithm\n",
    "    iterations  (integer) : Number of iterations (steps) in the algorithm\n",
    "     \n",
    "    The function returns an array for coefficients.\n",
    "    \n",
    "    '''        \n",
    "    \n",
    "    \n",
    "    # Storing cost after every iteration to see cost change, and analyze overfitting vs undersfitting comparing trains and test\n",
    "    # cost , if desired later\n",
    "    cost_iterations = []\n",
    "    \n",
    "    ## Adding intercept column, which is also called bias. \n",
    "    m = len(X)\n",
    "    x0 = pd.DataFrame(np.ones((m,1)), columns = ['intercept'], index = list(X.index.values))\n",
    "    X_new = pd.concat([x0, X], axis=1)\n",
    "    \n",
    "    \n",
    "    for iteration in range(iterations):\n",
    "        \n",
    "        # Hypothesis\n",
    "        h = X_new.dot(betas)\n",
    "\n",
    "\n",
    "        # Difference between Hypothesis and Actual Y\n",
    "        loss = h - Y\n",
    "        \n",
    "        # Calculating gradient\n",
    "        gradient = X_new.T.dot(loss) / m\n",
    "        \n",
    "        # Updating beta values based on learning rate and Gradient\n",
    "        betas = betas - alpha * gradient\n",
    "\n",
    "        # Updating Cost Value\n",
    "        cost = cost_function(X_new, Y, betas)\n",
    "        cost_iterations.append(cost)\n",
    "        \n",
    "    return betas, cost_iterations"
   ]
  },
  {
   "cell_type": "code",
   "execution_count": 57,
   "metadata": {},
   "outputs": [
    {
     "name": "stdout",
     "output_type": "stream",
     "text": [
      "Coefficients: [15.1880479   1.72328615 -8.61005733]\n"
     ]
    }
   ],
   "source": [
    "## Running SGD\n",
    "\n",
    "# Initial betas, which are coefficients\n",
    "betas = np.array(np.zeros(len(X.columns)+1))\n",
    "\n",
    "# Learning rate in SGD\n",
    "alpha = 0.01\n",
    "\n",
    "# 2000 Iterations\n",
    "final_betas, cost_iteration = gradient_descent(X_train4, y_train4, betas, alpha, 2000)\n",
    "\n",
    "# Final Betas\n",
    "print(\"Coefficients: {}\".format(np.array(final_betas)))\n"
   ]
  },
  {
   "cell_type": "code",
   "execution_count": 58,
   "metadata": {},
   "outputs": [
    {
     "name": "stdout",
     "output_type": "stream",
     "text": [
      "Coefficients from linear regression with normal equation: [15.18819321  1.7232772  -8.61008231]\n",
      "Coefficients from linear regression with stochastic gradient descent: [15.1880479   1.72328615 -8.61005733]\n"
     ]
    }
   ],
   "source": [
    "print(\"Coefficients from linear regression with normal equation: {}\".format(betas4))\n",
    "print(\"Coefficients from linear regression with stochastic gradient descent: {}\".format(np.array(final_betas)))"
   ]
  },
  {
   "cell_type": "markdown",
   "metadata": {},
   "source": [
    "As seen above, coeffients of normal equation and SGD are almost same. <br /> <br /> \n",
    "By tuning learning rate and iteration, exactly same result can be obtained."
   ]
  },
  {
   "cell_type": "code",
   "execution_count": 59,
   "metadata": {},
   "outputs": [],
   "source": [
    "# Predictions\n",
    "train_predictions_SGD = predict(X_train4, final_betas)"
   ]
  },
  {
   "cell_type": "code",
   "execution_count": 60,
   "metadata": {},
   "outputs": [
    {
     "name": "stdout",
     "output_type": "stream",
     "text": [
      "MSE for Normal Equation: 723.5333540568691\n",
      "MSE for Stochastic Gradient Descent: 723.5333540694982\n"
     ]
    }
   ],
   "source": [
    "## Comparing MSE of Normal Equation and SGD\n",
    "print(\"MSE for Normal Equation: {}\".format(mse(y_train4, train_predictions4)))\n",
    "print(\"MSE for Stochastic Gradient Descent: {}\".format(mse(y_train4, train_predictions_SGD)))"
   ]
  },
  {
   "cell_type": "markdown",
   "metadata": {},
   "source": [
    "MSE values are practically same. So both approacesh give the same result."
   ]
  },
  {
   "cell_type": "markdown",
   "metadata": {},
   "source": [
    "The critical question the data scientist should ask at this phase is that what is the purpose of this model. What is she/he trying to accomplish? The answer is hidden in the business question. If the goal is a prediction regarding some independant variables, there is no need to dignose the model in detail as long as she/he is ok with the predicted power of the model, r2. <br /> <br />\n",
    "However, if the goal is related to interpretation of features, i.e. importance, statistical significance, confidence intervals, then diagnostic is crucial. Otherwise, coefficient would be misleading. \n",
    "<br /> <br />\n",
    "We want to interpret the features and obtain some inferences, we will perform diagnostic for the model."
   ]
  },
  {
   "cell_type": "markdown",
   "metadata": {},
   "source": [
    "## 6. Diagnostic of the Model"
   ]
  },
  {
   "cell_type": "markdown",
   "metadata": {},
   "source": [
    "Ideally, the first thing to check in a linear regression should be F-statistics and its p-value. The hypothesis is: <br />\n",
    "    - H0: beta1 = beta2 = beta 3 = 0    \n",
    "    - H1: at least one beta != 0        \n",
    "However, there can be exception. If p-value of any beta is statistically significant, i.e less than 0.05, the regression model is usually a statictically significant model. That means there is a relation between dependant variable and at least one of independant variables. <br />\n",
    "Let's check p-values, or t-values, of parameters. <br />\n",
    "Note that just the code is provided instead of delving into the mathematics.\n"
   ]
  },
  {
   "cell_type": "code",
   "execution_count": 61,
   "metadata": {},
   "outputs": [
    {
     "name": "stdout",
     "output_type": "stream",
     "text": [
      "t-values of coefficients: [  5.85472337   4.03311218 -12.08894437]\n"
     ]
    }
   ],
   "source": [
    "# Number of observations\n",
    "m = len(X_train4)\n",
    "\n",
    "# Number of features, including intercept\n",
    "p = len(X_train4.columns) + 1\n",
    "\n",
    "# Residuals\n",
    "error = y_train4 - train_predictions4 \n",
    "\n",
    "# Sum of Squared Error\n",
    "sse = error.dot(error)\n",
    "\n",
    "# Error variance, which is sigma squared\n",
    "s2 = sse / (m-p)\n",
    "\n",
    "# Adding intercept column, which is also called bias. \n",
    "m = len(X_train4)\n",
    "x0 = pd.DataFrame(np.ones((m,1)), columns = ['intercept'], index = list(X_train4.index.values))\n",
    "X_new = pd.concat([x0, X_train4], axis=1)\n",
    "\n",
    "# Applying normal equation\n",
    "xTx = np.transpose(X_new).dot(X_new)\n",
    "xTx_inverse = np.linalg.inv(xTx)\n",
    "\n",
    "# Standard Error or Coefficients\n",
    "se = np.sqrt(s2*np.diagonal(xTx_inverse))\n",
    "\n",
    "# t-values\n",
    "tval = betas4/se\n",
    "\n",
    "print(\"t-values of coefficients: {}\".format(np.array(tval)))"
   ]
  },
  {
   "cell_type": "markdown",
   "metadata": {},
   "source": [
    "We could find p-values for eact t-value. There is a quick and easy way: If t-values is greater than 1.96 or less than -1.96, then the coefficient would be statistically significant, which mean p-value is less than 0.05 (95% confidence level). <br /> <br />\n",
    "Since all t-values are beyond 1.96 and -1.96, all parameters are staticticall significant. So, we can simply say the affect of one feature (independant variable) on the dependant variable by just looking at the corresponding variable.  <br /> <br />\n",
    "However these coefficients do not tell anything about the importance of the features since they are not scaled. After scaling, it is possible to compare the importance of the features by comparing the coefficients.\n"
   ]
  },
  {
   "cell_type": "markdown",
   "metadata": {},
   "source": [
    "## Linearity Assumption"
   ]
  },
  {
   "cell_type": "markdown",
   "metadata": {},
   "source": [
    "What is the first, and the most, important assumption of linear regression? As the name suggets, it is linearity. The model assumes that there is a linear relation between dependant variable and independant variables. <br />\n",
    "Plotting actual vs fitted values would give an idea if the assumption holds for the model. Points should be symmetrically distributed around a dioganal line in the plot.This process is called goodness-of-fit test.\n"
   ]
  },
  {
   "cell_type": "code",
   "execution_count": 62,
   "metadata": {},
   "outputs": [
    {
     "data": {
      "text/plain": [
       "Text(0, 0.5, 'Actual values')"
      ]
     },
     "execution_count": 62,
     "metadata": {},
     "output_type": "execute_result"
    },
    {
     "data": {
      "image/png": "[encoded data removed]",
      "text/plain": [
       "<Figure size 864x432 with 1 Axes>"
      ]
     },
     "metadata": {
      "needs_background": "light"
     },
     "output_type": "display_data"
    }
   ],
   "source": [
    "# Goodness-of-fit\n",
    "\n",
    "plt.figure(figsize = (12, 6))\n",
    "\n",
    "\n",
    "sns.regplot(y_train4, train_predictions4, \n",
    "                          scatter_kws={'alpha': 0.5}, line_kws={'color': 'red', 'lw': 1, 'alpha': 0.8})\n",
    "\n",
    "# plt.plot(y_train, train_predictions, 'o', color='blue')\n",
    "\n",
    "plt.title('Actual vs Fitted')\n",
    "plt.xlabel('Fitted values')\n",
    "plt.ylabel('Actual values')\n"
   ]
  },
  {
   "cell_type": "markdown",
   "metadata": {},
   "source": [
    "Points are not symmetrically close to the diagonal line. This might mean the relation between dependant variable and independant variables is not truly linear as assumed. The would result in model's incapability to capture the true relation and the model would not able to explain variability of the dependant (response) data around its mean. <br />\n",
    "That is why adjusted r2 of the model is low - around 40%-50% .\n"
   ]
  },
  {
   "cell_type": "markdown",
   "metadata": {},
   "source": [
    "## Constant Variance of Residuals (Homoscedasticity)\n",
    " This plot would tell if there is an anomaly in residuals against fitted values. If a pattern, i.e upward trend or \"fan\" shape, exists, that would violate the constant error rule, which is call homoscedasticity. Error should spread randomly and they should be constant. <br />\n",
    " If the assumption does not hold, the interpretation of coefficients would be misleading. i.e. too wide/narrow confidence interval."
   ]
  },
  {
   "cell_type": "code",
   "execution_count": 63,
   "metadata": {},
   "outputs": [
    {
     "data": {
      "text/plain": [
       "Text(0, 0.5, 'Residuals')"
      ]
     },
     "execution_count": 63,
     "metadata": {},
     "output_type": "execute_result"
    },
    {
     "data": {
      "image/png": "[encoded data removed]",
      "text/plain": [
       "<Figure size 864x432 with 1 Axes>"
      ]
     },
     "metadata": {
      "needs_background": "light"
     },
     "output_type": "display_data"
    }
   ],
   "source": [
    "# Plotting homoscedasticity\n",
    "\n",
    "error = y_train4 - train_predictions4\n",
    "\n",
    "plt.figure(figsize = (12, 6))\n",
    "\n",
    "sns.residplot(train_predictions4, error, lowess=True, \n",
    "                          scatter_kws={'alpha': 0.5}, line_kws={'color': 'red', 'lw': 1, 'alpha': 0.8})\n",
    "\n",
    "\n",
    "plt.title('Residuals vs Fitted')\n",
    "plt.xlabel('Fitted values')\n",
    "plt.ylabel('Residuals')\n",
    "\n"
   ]
  },
  {
   "cell_type": "markdown",
   "metadata": {},
   "source": [
    "There seems to be pattern here: When fitted values are close to 0, then residuals are smaller. As fitted values get bigger, or smaller, residuals get bigger. Also, it looks like a bowl shape, which might be an indication of a systematic error in the model."
   ]
  },
  {
   "cell_type": "markdown",
   "metadata": {},
   "source": [
    "## Zero Mean of Residuals"
   ]
  },
  {
   "cell_type": "markdown",
   "metadata": {},
   "source": [
    "Then mean of residuals should be 0. Intuitevely speaking, the difference between actual points above the predicted line and the predicted line itself and the difference between actual points below the predicted line and the predicted line itself should offset each other, which ends up zero sum of residuals. \n"
   ]
  },
  {
   "cell_type": "code",
   "execution_count": 64,
   "metadata": {},
   "outputs": [
    {
     "name": "stdout",
     "output_type": "stream",
     "text": [
      "Mean of Residuals is 0.000\n"
     ]
    }
   ],
   "source": [
    "residuals = y_train4 - train_predictions4\n",
    "print('Mean of Residuals is {:0.3f}'.format(residuals.mean()))"
   ]
  },
  {
   "cell_type": "markdown",
   "metadata": {},
   "source": [
    "Residual zero mean assumption hold."
   ]
  },
  {
   "cell_type": "markdown",
   "metadata": {},
   "source": [
    "## Normality Assumption"
   ]
  },
  {
   "cell_type": "markdown",
   "metadata": {},
   "source": [
    "QQ plot helps see if the residuals are normally distributed. Normality assumption is critical since linear regression relies on normality (of error). If this assumption is violated, inferences related to parameters would be misleading, i.e wrong confidence intervals. \n",
    "Formal way of normality check is through Anderson-Darling normality test. The hypothesis is: <br />\n",
    "    - H0: Residuals are normally distributed   \n",
    "    - H1: Residuals are not normally distributed \n",
    "For the sake of brevity and simplification, let's stick to informal check, which is QQ plot. This way of diagnosis is more of a visuals rather than of a p-values"
   ]
  },
  {
   "cell_type": "code",
   "execution_count": 65,
   "metadata": {},
   "outputs": [
    {
     "data": {
      "text/plain": [
       "<matplotlib.axes._subplots.AxesSubplot at 0x1bddd53feb8>"
      ]
     },
     "execution_count": 65,
     "metadata": {},
     "output_type": "execute_result"
    },
    {
     "data": {
      "image/png": "[encoded data removed]",
      "text/plain": [
       "<Figure size 720x360 with 1 Axes>"
      ]
     },
     "metadata": {
      "needs_background": "light"
     },
     "output_type": "display_data"
    }
   ],
   "source": [
    "## Histogram of residuals\n",
    "\n",
    "plt.figure(figsize = (10, 5))\n",
    "\n",
    "plt.title(\"Distribution of Errors\")\n",
    "error.hist()"
   ]
  },
  {
   "cell_type": "markdown",
   "metadata": {},
   "source": [
    "Distribution of errors has a left skewed.  <br />\n",
    "QQ plot would reveal more."
   ]
  },
  {
   "cell_type": "code",
   "execution_count": 66,
   "metadata": {},
   "outputs": [
    {
     "data": {
      "image/png": "[encoded data removed]",
      "text/plain": [
       "<Figure size 432x288 with 1 Axes>"
      ]
     },
     "metadata": {
      "needs_background": "light"
     },
     "output_type": "display_data"
    }
   ],
   "source": [
    "## QQ Plot\n",
    "import statsmodels.api as sm\n",
    "import scipy.stats as stats\n",
    "\n",
    "sm.qqplot(error, stats.t, fit = True, line='45')\n",
    "plt.show()"
   ]
  },
  {
   "cell_type": "markdown",
   "metadata": {},
   "source": [
    "QQ plot shows that it is left skewed. <br />\n",
    "As a further improvement,features can be transformed, i.e log transformation, to retrieve a normal distibution for errors. "
   ]
  },
  {
   "cell_type": "markdown",
   "metadata": {},
   "source": [
    "### Independence Assumption"
   ]
  },
  {
   "cell_type": "markdown",
   "metadata": {},
   "source": [
    "Durbin-Watson test will help assess the condition of independence as a formal diagnostic. Autocorrelation plot would reveal if residualls are correlated or ont. If the data are not a time-series, we don't have to worry too much about this condition. <br />\n",
    "Plotting residuals by time would be the informal way.\n"
   ]
  },
  {
   "cell_type": "code",
   "execution_count": 67,
   "metadata": {},
   "outputs": [
    {
     "data": {
      "text/plain": [
       "Text(0, 0.5, 'Residuals')"
      ]
     },
     "execution_count": 67,
     "metadata": {},
     "output_type": "execute_result"
    },
    {
     "data": {
      "image/png": "[encoded data removed]",
      "text/plain": [
       "<Figure size 1224x432 with 1 Axes>"
      ]
     },
     "metadata": {
      "needs_background": "light"
     },
     "output_type": "display_data"
    }
   ],
   "source": [
    "# Plotting residuals by time\n",
    "\n",
    "x = np.linspace(1,len(y_train4),len(y_train4))\n",
    "\n",
    "plt.figure(figsize = (17, 6))\n",
    "\n",
    "sns.residplot(x, error, scatter_kws={'alpha': 0.5}, line_kws={'color': 'red', 'lw': 1, 'alpha': 0.8})\n",
    "# plt.scatter(x, error)\n",
    "\n",
    "plt.title('Residual Plot')\n",
    "plt.xlabel('Observation')\n",
    "plt.ylabel('Residuals')"
   ]
  },
  {
   "cell_type": "markdown",
   "metadata": {},
   "source": [
    "Well, it is hard to realize a positive, or negative, autocorrelation by just looking at this plot - although someone can say there is a pattern. That is the downside of informal methods. It can be subjective and relies on visuals. <br />Autocorrelation plot and Durbin-Watson test would be more robust approach. For brevity, we are not going in that details."
   ]
  },
  {
   "cell_type": "markdown",
   "metadata": {},
   "source": [
    "## Multicollinearity"
   ]
  },
  {
   "cell_type": "markdown",
   "metadata": {},
   "source": [
    "In multiple linear regression, multicollinearity happens if an independant variable can be predicted by any other independant variable through linear prediction with high accuracy. If it exists, coefficients would not be reliable and change in one parameter would have an inflated affect on another parameter. However, multicollinearity does not impact the predictive power and r2 of the model. <br /> <br />\n",
    "Variance inflation factor (VIF) helps measure multicollinearity. There is not a formal upper limit for it. Some professionals accept 5, some accept 10. However, one thing for sure is that none of them accept the model if VIF is greater than 10."
   ]
  },
  {
   "cell_type": "code",
   "execution_count": 68,
   "metadata": {},
   "outputs": [
    {
     "name": "stdout",
     "output_type": "stream",
     "text": [
      "Beta Values [ 2.171583   -0.15456859]\n",
      "r2: 0.07\n"
     ]
    }
   ],
   "source": [
    "# Model 4 with df_4: With outlier range 3\n",
    "\n",
    "X_A = X_train4[['A']]\n",
    "y_B = X_train4['B']\n",
    "\n",
    "\n",
    "# Calculating beta values\n",
    "betas_AB= linear_regression(X_A, y_B)\n",
    "print('Beta Values {}'.format(betas_AB))\n",
    "\n",
    "# Predictions for train and test data\n",
    "predictions_AB = predict(X_A, betas_AB)\n",
    "\n",
    "# Measuring performance, and printing the result\n",
    "r2 = r2_score(y_B, predictions_AB)\n",
    "print(\"r2: {:0.2f}\".format(r2))"
   ]
  },
  {
   "cell_type": "code",
   "execution_count": 69,
   "metadata": {},
   "outputs": [
    {
     "name": "stdout",
     "output_type": "stream",
     "text": [
      "VIF between Column A and Column B is 1.07\n"
     ]
    }
   ],
   "source": [
    "vif = 1 / (1-r2)\n",
    "\n",
    "print(\"VIF between Column A and Column B is {:0.2f}\".format(vif))"
   ]
  },
  {
   "cell_type": "markdown",
   "metadata": {},
   "source": [
    "A VIF around 1 is very good. That means multicollinearity is not an issue."
   ]
  },
  {
   "cell_type": "markdown",
   "metadata": {},
   "source": [
    "## 7. From Linear Regression to Polynomial Regression"
   ]
  },
  {
   "cell_type": "markdown",
   "metadata": {},
   "source": [
    "Adding polynomial features can improve the model. Let continue with df_4 this time and add some polynomial features. <br />\n",
    "Note that log transformation, Box-Cox transformation etc. can improve the model as well."
   ]
  },
  {
   "cell_type": "code",
   "execution_count": 70,
   "metadata": {},
   "outputs": [
    {
     "data": {
      "text/html": [
       "<div>\n",
       "<style scoped>\n",
       "    .dataframe tbody tr th:only-of-type {\n",
       "        vertical-align: middle;\n",
       "    }\n",
       "\n",
       "    .dataframe tbody tr th {\n",
       "        vertical-align: top;\n",
       "    }\n",
       "\n",
       "    .dataframe thead th {\n",
       "        text-align: right;\n",
       "    }\n",
       "</style>\n",
       "<table border=\"1\" class=\"dataframe\">\n",
       "  <thead>\n",
       "    <tr style=\"text-align: right;\">\n",
       "      <th></th>\n",
       "      <th>A</th>\n",
       "      <th>B</th>\n",
       "      <th>A_squared</th>\n",
       "      <th>AB</th>\n",
       "      <th>B_squared</th>\n",
       "    </tr>\n",
       "  </thead>\n",
       "  <tbody>\n",
       "    <tr>\n",
       "      <th>0</th>\n",
       "      <td>0.490142</td>\n",
       "      <td>-0.179654</td>\n",
       "      <td>0.240240</td>\n",
       "      <td>-0.088056</td>\n",
       "      <td>0.032276</td>\n",
       "    </tr>\n",
       "    <tr>\n",
       "      <th>1</th>\n",
       "      <td>-1.414793</td>\n",
       "      <td>-1.225605</td>\n",
       "      <td>2.001639</td>\n",
       "      <td>1.733977</td>\n",
       "      <td>1.502107</td>\n",
       "    </tr>\n",
       "    <tr>\n",
       "      <th>2</th>\n",
       "      <td>0.943066</td>\n",
       "      <td>4.506148</td>\n",
       "      <td>0.889373</td>\n",
       "      <td>4.249593</td>\n",
       "      <td>20.305365</td>\n",
       "    </tr>\n",
       "    <tr>\n",
       "      <th>3</th>\n",
       "      <td>3.569090</td>\n",
       "      <td>5.068347</td>\n",
       "      <td>12.738400</td>\n",
       "      <td>18.089386</td>\n",
       "      <td>25.688145</td>\n",
       "    </tr>\n",
       "    <tr>\n",
       "      <th>4</th>\n",
       "      <td>-1.702460</td>\n",
       "      <td>6.905051</td>\n",
       "      <td>2.898370</td>\n",
       "      <td>-11.755575</td>\n",
       "      <td>47.679735</td>\n",
       "    </tr>\n",
       "  </tbody>\n",
       "</table>\n",
       "</div>"
      ],
      "text/plain": [
       "          A         B  A_squared         AB  B_squared\n",
       "0  0.490142 -0.179654   0.240240  -0.088056   0.032276\n",
       "1 -1.414793 -1.225605   2.001639   1.733977   1.502107\n",
       "2  0.943066  4.506148   0.889373   4.249593  20.305365\n",
       "3  3.569090  5.068347  12.738400  18.089386  25.688145\n",
       "4 -1.702460  6.905051   2.898370 -11.755575  47.679735"
      ]
     },
     "execution_count": 70,
     "metadata": {},
     "output_type": "execute_result"
    }
   ],
   "source": [
    "# df_4: With outlier range 3\n",
    "X = df_4[['A', 'B']]\n",
    "y = df_4['C']\n",
    "\n",
    "\n",
    "## Adding some polynomial features\n",
    "X['A_squared'] = X['A']**2\n",
    "X['AB'] = X['A']*X['B']\n",
    "X['B_squared'] = X['B']**2\n",
    "\n",
    "X.head()"
   ]
  },
  {
   "cell_type": "code",
   "execution_count": 72,
   "metadata": {},
   "outputs": [
    {
     "name": "stdout",
     "output_type": "stream",
     "text": [
      "Beta Values [ 15.16265796   4.35229962 -10.93522552  -0.24701101  -1.52150618\n",
      "   0.40446956]\n",
      "Adjusted r2 for train set: 0.71\n",
      "Adjusted r2 for test set: 0.61\n",
      "MSE for train set: 508.04\n",
      "MSE for test set: 879.42\n"
     ]
    }
   ],
   "source": [
    "\n",
    "# Train - test split\n",
    "X_train_poly, X_test_poly, y_train_poly, y_test_poly = train_test_split(X , y, test_ratio= 0.33)\n",
    "\n",
    "# Calculating beta values\n",
    "betas_poly= linear_regression(X_train_poly, y_train_poly)\n",
    "print('Beta Values {}'.format(betas_poly))\n",
    "\n",
    "# Predictions for train and test data\n",
    "train_predictions_poly = predict(X_train_poly, betas_poly)\n",
    "test_predictions_poly = predict(X_test_poly, betas_poly)\n",
    "\n",
    "# Measuring performance, and printing the result\n",
    "print(\"Adjusted r2 for train set: {:0.2f}\".format(adjusted_r2(X_train_poly, y_train_poly, train_predictions_poly)))\n",
    "print(\"Adjusted r2 for test set: {:0.2f}\".format(adjusted_r2(X_test_poly, y_test_poly, test_predictions_poly)))\n",
    "\n",
    "print(\"MSE for train set: {:0.2f}\".format(mse(y_train_poly, train_predictions_poly)))\n",
    "print(\"MSE for test set: {:0.2f}\".format(mse(y_test_poly, test_predictions_poly)))"
   ]
  },
  {
   "cell_type": "markdown",
   "metadata": {},
   "source": [
    "Adding polynimal features contributed to the predictive power of the model since the relation was curvilinear, hence adjusted r2 increase from 52% to 71% for train data, from 43% to 61% for test data, which is a great improvement. \n",
    "<br /> <br />\n",
    "As a further improvement more features can be added and different transformations can be applied. <br /> <br />\n",
    "(It is even possible to develop a non-linear regression.)\n",
    "\n"
   ]
  },
  {
   "cell_type": "markdown",
   "metadata": {},
   "source": [
    "Diagnostic check for Polynomial Regression can be conducted as done above. These are: <br />\n",
    "    - The behavior of a dependent variable should be explained by and additive relationship between the dependent variable and independant variable, and it should be linear or curvilinear.\n",
    "    - The relationship between dependent variable and any independent variable should linear or curvilinear (polynomial in this contest)\n",
    "    - The independent variables are independent of each other (no multicollinearity)\n",
    "    - The errors are independent, normally distributed with mean zero and a constant variance (Ordinary Least Squares, which is the model we developed above )\n",
    "Actually, these are almost same with the assumptions of Linear Regression, except curvilinear relation."
   ]
  },
  {
   "cell_type": "markdown",
   "metadata": {},
   "source": [
    "PS: Although it is not done here, Column A and Column C, or Column B and Column C, can be used to build a simple linear regression\n",
    "and can be analyzed."
   ]
  }
 ],
 "metadata": {
  "kernelspec": {
   "display_name": "Python 3",
   "language": "python",
   "name": "python3"
  },
  "language_info": {
   "codemirror_mode": {
    "name": "ipython",
    "version": 3
   },
   "file_extension": ".py",
   "mimetype": "text/x-python",
   "name": "python",
   "nbconvert_exporter": "python",
   "pygments_lexer": "ipython3",
   "version": "3.7.3"
  }
 },
 "nbformat": 4,
 "nbformat_minor": 2
}
